{
 "cells": [
  {
   "cell_type": "code",
   "execution_count": 1,
   "id": "14f7ab29",
   "metadata": {
    "tags": []
   },
   "outputs": [
    {
     "name": "stdout",
     "output_type": "stream",
     "text": [
      "0 lines were dropped\n",
      "GPU temperature         74.741405\n",
      "CPU temperature         64.630465\n",
      "Core clock            1876.962631\n",
      "Memory temperature      72.129297\n",
      "GPU usage               92.439836\n",
      "Memory clock          1788.103886\n",
      "Power                  159.184230\n",
      "Fan speed               69.593797\n",
      "Fan tachometer        2387.834828\n",
      "GPU temperature 2       88.550075\n",
      "CPU clock             3948.411809\n",
      "CPU usage               62.146813\n",
      "CPU power               50.787253\n",
      "Framerate               93.959492\n",
      "Frametime               13.211280\n",
      "dtype: float64\n",
      "\n"
     ]
    }
   ],
   "source": [
    "import numpy as np\n",
    "import pandas as pd\n",
    "\n",
    "def averages(listName):\n",
    "  dropped_lines = 0\n",
    "  myFile = open(listName)\n",
    "  fileLines = myFile.readlines()\n",
    "\n",
    "  titles = []\n",
    "  data = []\n",
    "\n",
    "  for line in fileLines:\n",
    "    lineSplit = line.strip().split(',')\n",
    "    lineSplit = line.strip().split(',')\n",
    "\n",
    "    if(lineSplit[0] == \"80\"):\n",
    "      row = list(lineSplit)\n",
    "      row.pop(0)\n",
    "      row.pop(0)\n",
    "      \n",
    "      try:\n",
    "        row = list(map(float, row))\n",
    "        data.append(row)\n",
    "      except:\n",
    "        dropped_lines = dropped_lines + 1\n",
    "      \n",
    "    elif(lineSplit[0] == \"02\"):\n",
    "      row = list(lineSplit)\n",
    "      row.pop(0)\n",
    "      row.pop(0)\n",
    "      for r in row:\n",
    "        r = r.strip()\n",
    "        titles.append(r)\n",
    "\n",
    "  df = pd.DataFrame(data, columns=titles)\n",
    "  print(str(dropped_lines) + \" lines were dropped\")\n",
    "  print(df.mean())\n",
    "\n",
    "#averages('old_bios_60fps.hml')\n",
    "#print()\n",
    "averages('rdr2_limitless.hml')\n",
    "print()\n",
    "#averages('old_bios_limitless.hml')\n",
    "#print()\n",
    "#averages('new_bios_limitless.hml')\n"
   ]
  },
  {
   "cell_type": "code",
   "execution_count": null,
   "id": "2d4b6321-8836-44e6-ac25-1cb09b8456a1",
   "metadata": {
    "editable": true,
    "slideshow": {
     "slide_type": ""
    },
    "tags": []
   },
   "outputs": [],
   "source": []
  }
 ],
 "metadata": {
  "kernelspec": {
   "display_name": "Python 3 (ipykernel)",
   "language": "python",
   "name": "python3"
  },
  "language_info": {
   "codemirror_mode": {
    "name": "ipython",
    "version": 3
   },
   "file_extension": ".py",
   "mimetype": "text/x-python",
   "name": "python",
   "nbconvert_exporter": "python",
   "pygments_lexer": "ipython3",
   "version": "3.12.0"
  }
 },
 "nbformat": 4,
 "nbformat_minor": 5
}
