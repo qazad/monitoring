{
 "cells": [
  {
   "cell_type": "code",
   "execution_count": 4,
   "id": "14f7ab29",
   "metadata": {
    "tags": []
   },
   "outputs": [
    {
     "name": "stdout",
     "output_type": "stream",
     "text": [
      "2378 lines were dropped\n",
      "GPU temperature         51.922090\n",
      "CPU temperature         60.191527\n",
      "Core clock            1166.477366\n",
      "Memory temperature      53.891137\n",
      "GPU usage               58.213084\n",
      "                         ...     \n",
      "Framerate Min            8.450792\n",
      "Framerate Avg           51.576005\n",
      "Framerate Max           81.300264\n",
      "Framerate 1% Low        20.529691\n",
      "Framerate 0.1% Low       5.244740\n",
      "Length: 77, dtype: float64\n",
      "\n",
      "average fps is  58.345349400232045\n",
      "limited fps is  67.98337106918238\n",
      "\n"
     ]
    }
   ],
   "source": [
    "import numpy as np\n",
    "import pandas as pd\n",
    "\n",
    "def averages(listName):\n",
    "  dropped_lines = 0\n",
    "  myFile = open(listName)\n",
    "  fileLines = myFile.readlines()    \n",
    "\n",
    "  titles = []\n",
    "  data = []\n",
    "\n",
    "  for line in fileLines:\n",
    "    lineSplit = line.strip().split(',')\n",
    "    lineSplit = line.strip().split(',')\n",
    "\n",
    "    if(lineSplit[0] == \"80\"):\n",
    "      row = list(lineSplit)\n",
    "      row.pop(0)\n",
    "      row.pop(0)\n",
    "      \n",
    "      try:\n",
    "        row = list(map(float, row))\n",
    "        data.append(row)\n",
    "      except:\n",
    "        dropped_lines = dropped_lines + 1\n",
    "      \n",
    "    elif(lineSplit[0] == \"02\"):\n",
    "      row = list(lineSplit)\n",
    "      row.pop(0)\n",
    "      row.pop(0)\n",
    "      for r in row:\n",
    "        r = r.strip()\n",
    "        titles.append(r)\n",
    "\n",
    "  df = pd.DataFrame(data, columns=titles)\n",
    "  print(str(dropped_lines) + \" lines were dropped\")\n",
    "\n",
    "  # ignoring fps lower than 32 (fps when game is not focused is limited with 30)\n",
    "  # ignoring fps higher than 75 (fps in focused game is limited with 72)\n",
    "  # monitor refresh rate is higher than limited fps (144)\n",
    "  # some logs are recorded as close to 144 fps when game is not focused, which are ignored\n",
    "  limiter = (df['Framerate'] > 32) & (df['Framerate'] < 75)\n",
    "  limited_df = df[limiter]\n",
    "\n",
    "  # averages of each columns\n",
    "  print(df.mean())\n",
    "\n",
    "  print()\n",
    "  print(\"average fps is \", df['Framerate'].mean())\n",
    "  print(\"limited fps is \", limited_df['Framerate'].mean())    \n",
    "\n",
    "averages('poe_long.hml')\n",
    "print()\n",
    "\n"
   ]
  },
  {
   "cell_type": "code",
   "execution_count": null,
   "id": "2d4b6321-8836-44e6-ac25-1cb09b8456a1",
   "metadata": {
    "editable": true,
    "slideshow": {
     "slide_type": ""
    },
    "tags": []
   },
   "outputs": [],
   "source": []
  }
 ],
 "metadata": {
  "kernelspec": {
   "display_name": "Python 3 (ipykernel)",
   "language": "python",
   "name": "python3"
  },
  "language_info": {
   "codemirror_mode": {
    "name": "ipython",
    "version": 3
   },
   "file_extension": ".py",
   "mimetype": "text/x-python",
   "name": "python",
   "nbconvert_exporter": "python",
   "pygments_lexer": "ipython3",
   "version": "3.12.1"
  }
 },
 "nbformat": 4,
 "nbformat_minor": 5
}
